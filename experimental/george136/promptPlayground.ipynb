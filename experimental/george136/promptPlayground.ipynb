{
 "cells": [
  {
   "cell_type": "code",
   "execution_count": 5,
   "id": "dd357665-0c7a-4282-bc19-1e1eae64a457",
   "metadata": {},
   "outputs": [],
   "source": [
    "import {\n",
    "  ChatAnthropic,\n",
    "  ChatOpenAI,\n",
    "  ChatPromptTemplate,\n",
    "  JsonOutputParser,\n",
    "  StringOutputParser,\n",
    "} from \"packages/deps.ts\";\n",
    "\n",
    "const openAIApiKey = Deno.env.get(\"OPENAI_API_KEY\") ?? \"\";\n",
    "const anthropicApiKey = Deno.env.get(\"ANTHROPIC_API_KEY\") ?? \"\";\n",
    "\n"
   ]
  },
  {
   "cell_type": "code",
   "execution_count": 21,
   "id": "dfd88ed0-d1e9-4c8e-b2b8-8c8cc1db4b0a",
   "metadata": {},
   "outputs": [],
   "source": [
    "const model = new ChatAnthropic({\n",
    "  model: \"claude-3-5-sonnet-20240620\",\n",
    "  temperature: 0\n",
    "});\n",
    "\n",
    "const model2 = new ChatOpenAI({\n",
    "  model: \"gpt-3.5-turbo\",\n",
    "  temperature: 0\n",
    "});\n",
    "\n",
    "const properties = {\n",
    "      anecdotes: { \n",
    "          type: \"array\", \n",
    "          items: {\n",
    "              text: { type: \"string\", description: \"The verbatim transcript of the anecdote\" },\n",
    "              desc: { type: \"string\", description: \"A summary of the anecdote.\" },\n",
    "              filename: { type: \"string\", description: \"The name of the file containing the anecdote.\" },\n",
    "              topics: { type: \"string\", description: \"A comma-separated list of topics related to the anecdote.\" },\n",
    "              rationale: { type: \"string\", description: \"A rationale for the confidence rating.\" },\n",
    "              confidence: { type: \"number\", description: \"A floating point confidence rating from 0 to 1, where 0 doesn't relate to the prompt and 1 relates best.\" }\n",
    "            }\n",
    "      }\n",
    "}\n",
    "const structuredLlm = model.withStructuredOutput({\n",
    "  name: \"anecdote\",\n",
    "  description: \"an anecdote from the text relating to the user prompt.\",\n",
    "  input_schema: {\n",
    "    type: \"object\",\n",
    "    properties,\n",
    "  }\n",
    "});\n",
    "\n",
    "const structuredLlm2 = model2.withStructuredOutput({\n",
    "  name: \"anecdote\",\n",
    "  description: \"an anecdote from the text relating to the user prompt.\",\n",
    "  parameters: {\n",
    "    title: \"Anecdote\",\n",
    "    type: \"object\",\n",
    "    properties,\n",
    "  },\n",
    "});"
   ]
  },
  {
   "cell_type": "code",
   "execution_count": 19,
   "id": "7672609a-3996-436d-adbb-5da982946187",
   "metadata": {},
   "outputs": [],
   "source": [
    "\n",
    "const document = \"Filename: P1008801.MP4 \\nContent: What'd you have for breakfast? Perfect. Wonderful. Breakfast of champions. What are cost? Irrigation. They're in the first question. What are cost savings accounts are service. I'm sorry. Just look at Jennifer. I know. Right here businesses thinking about the service or anyone? No, you just. I have two cameras for a reason. That way I can chop you in whenever I need to. Because I don't want to share an example because there's so many little things I would have to explain that would give people. Oh, my God, I'm going to call them because there's all these little things you have to do to get it. Okay, so maybe walk us through what is. I have a great. Whenever you're ready. The way that you can better the savings you expect to see in a cost. Typically, we can take 20% of your public purchase price. Take that as a production. More than you. Walk us through. Like, what should we do, though? Like, what should people expect? Sure. Yeah. So what should people expect when they come to start Costa? What you can expect when you come to meet us for the first time. And after that we'll reach out. Architectural plans of the larger job was good for tax records. Say it again. Where's the initial promise? Walk us through what can people expect? What you can expect in working with us. From there, we'll determine what we will do with that. Properties. They can include cat plans to design our units, closing statements and public. Do you want to talk about any client experience, like tax services? Should we offer our clients or. We're going to need a separate one. Okay. Okay. Do you have anything to say about the IR's? I mean, so if, like you talk about. It's going to be a. Okay. Okay. Yeah. But. The problem there is the word. You could talk through. You know, just like, what are you and your team doing to help make the client experience. Right. One of the things we're doing to make sure. One of the things we're doing to make sure that they're doing so they can have a good experience. Yeah, I like it. I think we're good. I don't have anything else.\"\n",
    "const systemMessage = `You have access to a comprehensive database of video transcripts. Your task is to extract all anecdotes from these transcripts based on a user-provided prompt. This task is to be performed using the provided transcript data sections listed below. ${document} `  \n",
    "const prompt = ChatPromptTemplate.fromMessages([\n",
    "    [\"system\", `${systemMessage}`],\n",
    "    [\"user\", \"{input}\"],\n",
    "  ]);\n",
    "\n",
    "\n",
    "\n",
    "\n",
    "\n"
   ]
  },
  {
   "cell_type": "code",
   "execution_count": 24,
   "id": "a7181207-2445-4754-9443-a33ad4828cd7",
   "metadata": {},
   "outputs": [
    {
     "data": {
      "text/plain": [
       "{\n",
       "  anecdotes: [\n",
       "    {\n",
       "      filename: \u001b[32m\"P1008801.MP4\"\u001b[39m,\n",
       "      text: \u001b[32m\"Just look at Jennifer. I know. Right here businesses thinking about the service or anyone?\"\u001b[39m,\n",
       "      desc: \u001b[32m\"The speaker mentions the name Jennifer while discussing something about businesses and services.\"\u001b[39m,\n",
       "      confidence: \u001b[33m0.7\u001b[39m,\n",
       "      rationale: \u001b[32m\"The name Jennifer is clearly mentioned, but the context around it is somewhat unclear. It's not a detailed anecdote, but it does contain a name as requested.\"\u001b[39m,\n",
       "      topics: \u001b[32m\"names, Jennifer, business, service\"\u001b[39m\n",
       "    }\n",
       "  ]\n",
       "}"
      ]
     },
     "execution_count": 24,
     "metadata": {},
     "output_type": "execute_result"
    }
   ],
   "source": [
    "const chain = prompt.pipe(structuredLlm);\n",
    "const response = await chain.invoke({ input: \"parts where the speaker mentions a name of someone\" });\n",
    "response"
   ]
  },
  {
   "cell_type": "code",
   "execution_count": null,
   "id": "33ddb81d-0986-468d-bffc-11dff02555e0",
   "metadata": {},
   "outputs": [],
   "source": []
  }
 ],
 "metadata": {
  "kernelspec": {
   "display_name": "Deno",
   "language": "typescript",
   "name": "deno"
  },
  "language_info": {
   "codemirror_mode": "typescript",
   "file_extension": ".ts",
   "mimetype": "text/x.typescript",
   "name": "typescript",
   "nbconvert_exporter": "script",
   "pygments_lexer": "typescript",
   "version": "5.5.2"
  }
 },
 "nbformat": 4,
 "nbformat_minor": 5
}
