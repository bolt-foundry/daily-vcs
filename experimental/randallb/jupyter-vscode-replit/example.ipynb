{
 "cells": [
  {
   "cell_type": "code",
   "execution_count": 3,
   "metadata": {},
   "outputs": [
    {
     "name": "stdout",
     "output_type": "stream",
     "text": [
      "[Function: getLogger]\n",
      "(jupyter) \u001b[34mINFO\u001b[39m:  yay\n"
     ]
    },
    {
     "data": {
      "text/plain": [
       "\u001b[32m\"lol\"\u001b[39m"
      ]
     },
     "execution_count": 3,
     "metadata": {},
     "output_type": "execute_result"
    }
   ],
   "source": [
    "import { getLogger } from \"deps.ts\"\n",
    "\n",
    "console.log(getLogger);\n",
    "const logger = getLogger(\"jupyter\")\n",
    "logger.info(\"yay\")\n",
    "\n",
    "\"lol\"\n"
   ]
  }
 ],
 "metadata": {
  "kernelspec": {
   "display_name": "Deno",
   "language": "typescript",
   "name": "deno"
  },
  "language_info": {
   "file_extension": ".ts",
   "mimetype": "text/x.typescript",
   "name": "typescript",
   "nb_converter": "script",
   "pygments_lexer": "typescript",
   "version": "5.4.5"
  }
 },
 "nbformat": 4,
 "nbformat_minor": 2
}
