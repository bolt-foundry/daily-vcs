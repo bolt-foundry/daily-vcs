{
 "cells": [
  {
   "cell_type": "markdown",
   "metadata": {},
   "source": []
  },
  {
   "cell_type": "code",
   "execution_count": 1,
   "metadata": {},
   "outputs": [
    {
     "name": "stdout",
     "output_type": "stream",
     "text": [
      "No enabled loggers specified, enabling all loggers\n",
      "(/home/runner/chonk/infra/lib/jupyterUtils.ts) \u001b[34mINFO\u001b[39m:  file:///home/runner/chonk/infra/lib/jupyterUtils.ts - DANGEROUSLY_GET_CURRENT_VIEWER_FROM_REFRESH_TOKEN\n"
     ]
    },
    {
     "ename": "Error",
     "evalue": "Your role (ANON) does not have permission to READ on BfPerson.",
     "output_type": "error",
     "traceback": [
      "Stack trace:",
      "Error: Your role (ANON) does not have permission to READ on BfPerson.",
      "    at Proxy.validatePermissions (file:///home/runner/chonk/packages/bfDb/classes/BfModel.ts:430:11)",
      "    at Proxy.load (file:///home/runner/chonk/packages/bfDb/classes/BfModel.ts:360:16)",
      "    at async Function.findX (file:///home/runner/chonk/packages/bfDb/classes/BfModel.ts:167:7)",
      "    at async Function.getRefreshedAccessToken (file:///home/runner/chonk/packages/bfDb/models/BfAccount.ts:87:20)",
      "    at async DANGEROUSLY_GET_CURRENT_VIEWER_FROM_REFRESH_TOKEN_OUT_OF_THIN_AIR (file:///home/runner/chonk/infra/lib/jupyterUtils.ts:10:23)",
      "    at async <anonymous>:4:12"
     ]
    }
   ],
   "source": [
    "import { BfNodeGoogleDriveFile } from \"packages/bfDb/models/BfNodeGoogleDriveFile.ts\"\n",
    "import { getJupyterCurrentUser } from \"infra/lib/jupyterUtils.ts\";\n",
    "\n",
    "const cv = await getJupyterCurrentUser();\n",
    "\n",
    "const items = await BfNodeGoogleDriveFile.findAllForOwner(cv)\n",
    "items"
   ]
  }
 ],
 "metadata": {
  "kernelspec": {
   "display_name": "Deno",
   "language": "typescript",
   "name": "deno"
  },
  "language_info": {
   "name": "typescript"
  }
 },
 "nbformat": 4,
 "nbformat_minor": 2
}
