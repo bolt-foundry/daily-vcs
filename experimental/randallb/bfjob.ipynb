{
 "cells": [
  {
   "cell_type": "markdown",
   "id": "195264d5-797e-4dca-afa2-8fb705e4a2e2",
   "metadata": {},
   "source": [
    "# Example of learning to create a class\n",
    "\n",
    "## Get the default jupyter current viewer\n"
   ]
  },
  {
   "cell_type": "code",
   "execution_count": 1,
   "id": "cad933c9-97ba-45d9-a386-e70b43866cb2",
   "metadata": {},
   "outputs": [
    {
     "name": "stdout",
     "output_type": "stream",
     "text": [
      "/home/runner/randallb-08-12/infra/lib/jupyterUtils.ts - \u001b[34mINFO\u001b[39m:  file:///home/runner/randallb-08-12/infra/lib/jupyterUtils.ts - impersonating google:108810509077746991108\n"
     ]
    },
    {
     "data": {
      "text/plain": [
       "BfCurrentViewerFromAccount {\n",
       "  organizationBfGid: \u001b[32m\"bf_internal_org\"\u001b[39m,\n",
       "  role: \u001b[32m\"OWNER\"\u001b[39m,\n",
       "  personBfGid: \u001b[32m\"google:108810509077746991108\"\u001b[39m,\n",
       "  accountBfGid: \u001b[32m\"6e58d1bdd60a49368e524f44616b60b4\"\u001b[39m,\n",
       "  creator: \u001b[32m\"file:///home/runner/randallb-08-12/infra/lib/jupyterUtils.ts\"\u001b[39m,\n",
       "  jwtPayload: \u001b[1mnull\u001b[22m,\n",
       "  __typename: \u001b[32m\"BfCurrentViewerFromAccount\"\u001b[39m\n",
       "}"
      ]
     },
     "execution_count": 1,
     "metadata": {},
     "output_type": "execute_result"
    }
   ],
   "source": [
    "import { getJupyterCurrentViewer } from \"infra/lib/jupyterUtils.ts\"\n",
    "\n",
    "const cv = await getJupyterCurrentViewer()\n",
    "cv"
   ]
  },
  {
   "cell_type": "markdown",
   "id": "3eef1242-a3b8-4872-a815-db08c9ef8115",
   "metadata": {},
   "source": [
    "# Bf Job\n",
    "\n",
    "BfJob's job™ is to create things which can execute on other items. It's a worker queue / background process thing. BfJob itself is rather simple... to create one:"
   ]
  },
  {
   "cell_type": "code",
   "execution_count": 2,
   "id": "ca1cddff-1d3f-48a5-a9dc-e7bba77326f3",
   "metadata": {},
   "outputs": [
    {
     "name": "stdout",
     "output_type": "stream",
     "text": [
      "/home/runner/randallb-08-12/packages/bfDb/models/BfJob.ts - \u001b[34mINFO\u001b[39m:  {\n",
      "  bfSid: \u001b[32m\"0803d982446d4b35b8cab816cb37503e\"\u001b[39m,\n",
      "  bfSClassName: \u001b[32m\"BfMedia\"\u001b[39m,\n",
      "  bfOid: \u001b[32m\"bf_internal_org\"\u001b[39m,\n",
      "  bfTid: \u001b[32m\"0803d982446d4b35b8cab816cb37503e\"\u001b[39m,\n",
      "  bfTClassName: \u001b[32m\"BfMedia\"\u001b[39m\n",
      "}\n"
     ]
    },
    {
     "data": {
      "text/plain": [
       "BfJob {\n",
       "  currentViewer: BfCurrentViewerFromAccount {\n",
       "    organizationBfGid: \u001b[32m\"bf_internal_org\"\u001b[39m,\n",
       "    role: \u001b[32m\"OWNER\"\u001b[39m,\n",
       "    personBfGid: \u001b[32m\"google:108810509077746991108\"\u001b[39m,\n",
       "    accountBfGid: \u001b[32m\"6e58d1bdd60a49368e524f44616b60b4\"\u001b[39m,\n",
       "    creator: \u001b[32m\"file:///home/runner/randallb-08-12/infra/lib/jupyterUtils.ts\"\u001b[39m,\n",
       "    jwtPayload: \u001b[1mnull\u001b[22m,\n",
       "    __typename: \u001b[32m\"BfCurrentViewerFromAccount\"\u001b[39m\n",
       "  },\n",
       "  serverProps: {\n",
       "    args: [],\n",
       "    method: \u001b[32m\"example\"\u001b[39m,\n",
       "    status: \u001b[32m\"AVAILABLE\"\u001b[39m,\n",
       "    accountBfGid: \u001b[32m\"6e58d1bdd60a49368e524f44616b60b4\"\u001b[39m\n",
       "  },\n",
       "  clientProps: {\n",
       "    status: \u001b[32m\"AVAILABLE\"\u001b[39m,\n",
       "    accountBfGid: \u001b[32m\"6e58d1bdd60a49368e524f44616b60b4\"\u001b[39m,\n",
       "    method: \u001b[32m\"example\"\u001b[39m,\n",
       "    args: []\n",
       "  },\n",
       "  metadata: {\n",
       "    bfGid: \u001b[32m\"9689697606ff4a9b9a1f8e2cd8e4742a\"\u001b[39m,\n",
       "    bfSid: \u001b[32m\"0803d982446d4b35b8cab816cb37503e\"\u001b[39m,\n",
       "    bfTid: \u001b[32m\"0803d982446d4b35b8cab816cb37503e\"\u001b[39m,\n",
       "    bfOid: \u001b[32m\"bf_internal_org\"\u001b[39m,\n",
       "    bfCid: \u001b[32m\"6e58d1bdd60a49368e524f44616b60b4\"\u001b[39m,\n",
       "    bfTClassName: \u001b[32m\"BfMedia\"\u001b[39m,\n",
       "    bfSClassName: \u001b[32m\"BfMedia\"\u001b[39m,\n",
       "    className: \u001b[32m\"BfJob\"\u001b[39m,\n",
       "    createdAt: \u001b[35m2024-08-12T21:43:28.570Z\u001b[39m,\n",
       "    lastUpdated: \u001b[35m2024-08-12T21:43:28.570Z\u001b[39m\n",
       "  },\n",
       "  _cachedProps: {\n",
       "    status: \u001b[32m\"AVAILABLE\"\u001b[39m,\n",
       "    accountBfGid: \u001b[32m\"6e58d1bdd60a49368e524f44616b60b4\"\u001b[39m,\n",
       "    method: \u001b[32m\"example\"\u001b[39m,\n",
       "    args: []\n",
       "  },\n",
       "  __typename: \u001b[32m\"BfEdge\"\u001b[39m\n",
       "}"
      ]
     },
     "execution_count": 2,
     "metadata": {},
     "output_type": "execute_result"
    }
   ],
   "source": [
    "import { BfMedia } from \"packages/bfDb/models/BfMedia.ts\"\n",
    "import { BfJob } from \"packages/bfDb/models/BfJob.ts\"\n",
    "\n",
    "const newMedia = await BfMedia.create(cv, {filename: \"notebook example!!\"})\n",
    "const bfJob = await BfJob.createJobForNode(newMedia, \"example\")\n",
    "bfJob"
   ]
  },
  {
   "cell_type": "code",
   "execution_count": 3,
   "id": "69b5e397-6533-4235-a7f5-51c73f051272",
   "metadata": {},
   "outputs": [
    {
     "data": {
      "text/plain": [
       "[\n",
       "  BfJob {\n",
       "    currentViewer: BfCurrentViewerFromAccount {\n",
       "      organizationBfGid: \u001b[32m\"bf_internal_org\"\u001b[39m,\n",
       "      role: \u001b[32m\"OWNER\"\u001b[39m,\n",
       "      personBfGid: \u001b[32m\"google:108810509077746991108\"\u001b[39m,\n",
       "      accountBfGid: \u001b[32m\"6e58d1bdd60a49368e524f44616b60b4\"\u001b[39m,\n",
       "      creator: \u001b[32m\"file:///home/runner/randallb-08-12/infra/lib/jupyterUtils.ts\"\u001b[39m,\n",
       "      jwtPayload: \u001b[1mnull\u001b[22m,\n",
       "      __typename: \u001b[32m\"BfCurrentViewerFromAccount\"\u001b[39m\n",
       "    },\n",
       "    serverProps: {\n",
       "      args: [],\n",
       "      method: \u001b[32m\"example\"\u001b[39m,\n",
       "      status: \u001b[32m\"AVAILABLE\"\u001b[39m,\n",
       "      accountBfGid: \u001b[32m\"6e58d1bdd60a49368e524f44616b60b4\"\u001b[39m\n",
       "    },\n",
       "    clientProps: {},\n",
       "    metadata: {\n",
       "      bfCid: \u001b[32m\"6e58d1bdd60a49368e524f44616b60b4\"\u001b[39m,\n",
       "      bfGid: \u001b[32m\"8d5d5cc43a5b4a099ed5b66fe0d651ce\"\u001b[39m,\n",
       "      bfOid: \u001b[32m\"bf_internal_org\"\u001b[39m,\n",
       "      sortValue: \u001b[32m\"1723498920875\"\u001b[39m,\n",
       "      className: \u001b[32m\"BfJob\"\u001b[39m,\n",
       "      createdAt: \u001b[35m2024-08-12T21:42:00.875Z\u001b[39m,\n",
       "      lastUpdated: \u001b[35m2024-08-12T21:42:00.875Z\u001b[39m,\n",
       "      bfSid: \u001b[32m\"c2e58a6160bf4788a8fd220a5453c2dc\"\u001b[39m,\n",
       "      bfTid: \u001b[32m\"c2e58a6160bf4788a8fd220a5453c2dc\"\u001b[39m,\n",
       "      bfTClassName: \u001b[32m\"BfMedia\"\u001b[39m,\n",
       "      bfSClassName: \u001b[32m\"BfMedia\"\u001b[39m\n",
       "    },\n",
       "    _cachedProps: \u001b[90mundefined\u001b[39m,\n",
       "    __typename: \u001b[32m\"BfEdge\"\u001b[39m\n",
       "  }\n",
       "]"
      ]
     },
     "execution_count": 3,
     "metadata": {},
     "output_type": "execute_result"
    }
   ],
   "source": [
    "import { BfJob } from \"packages/bfDb/models/BfJob.ts\"\n",
    "await BfJob.query(cv, {}, {status: \"AVAILABLE\"})"
   ]
  },
  {
   "cell_type": "code",
   "execution_count": 4,
   "id": "10428a9d-d20f-4602-af6e-0384902d4f38",
   "metadata": {},
   "outputs": [
    {
     "data": {
      "text/plain": [
       "IBfCurrentViewerInternalAdminOmni {\n",
       "  organizationBfGid: \u001b[32m\"omni_person\"\u001b[39m,\n",
       "  role: \u001b[32m\"OMNI\"\u001b[39m,\n",
       "  personBfGid: \u001b[32m\"omni_person\"\u001b[39m,\n",
       "  accountBfGid: \u001b[32m\"omni_person\"\u001b[39m,\n",
       "  creator: \u001b[90mundefined\u001b[39m,\n",
       "  jwtPayload: \u001b[1mnull\u001b[22m,\n",
       "  __typename: \u001b[32m\"IBfCurrentViewerInternalAdminOmni\"\u001b[39m\n",
       "}"
      ]
     },
     "execution_count": 4,
     "metadata": {},
     "output_type": "execute_result"
    }
   ],
   "source": [
    "import { IBfCurrentViewerInternalAdminOmni } from \"packages/bfDb/classes/BfCurrentViewer.ts\";\n",
    "\n",
    "const omniCurrentViewer = IBfCurrentViewerInternalAdminOmni.__DANGEROUS__create({});\n",
    "omniCurrentViewer"
   ]
  },
  {
   "cell_type": "code",
   "execution_count": 5,
   "id": "21936f24-8b45-4673-ac11-ffc397b200fc",
   "metadata": {},
   "outputs": [
    {
     "data": {
      "text/plain": [
       "[\n",
       "  BfJob {\n",
       "    currentViewer: IBfCurrentViewerInternalAdminOmni {\n",
       "      organizationBfGid: \u001b[32m\"omni_person\"\u001b[39m,\n",
       "      role: \u001b[32m\"OMNI\"\u001b[39m,\n",
       "      personBfGid: \u001b[32m\"omni_person\"\u001b[39m,\n",
       "      accountBfGid: \u001b[32m\"omni_person\"\u001b[39m,\n",
       "      creator: \u001b[90mundefined\u001b[39m,\n",
       "      jwtPayload: \u001b[1mnull\u001b[22m,\n",
       "      __typename: \u001b[32m\"IBfCurrentViewerInternalAdminOmni\"\u001b[39m\n",
       "    },\n",
       "    serverProps: {\n",
       "      args: [],\n",
       "      method: \u001b[32m\"example\"\u001b[39m,\n",
       "      status: \u001b[32m\"AVAILABLE\"\u001b[39m,\n",
       "      accountBfGid: \u001b[32m\"6e58d1bdd60a49368e524f44616b60b4\"\u001b[39m\n",
       "    },\n",
       "    clientProps: {},\n",
       "    metadata: {\n",
       "      bfCid: \u001b[32m\"6e58d1bdd60a49368e524f44616b60b4\"\u001b[39m,\n",
       "      bfGid: \u001b[32m\"461b74eb4f91408eb5939d31b58bb626\"\u001b[39m,\n",
       "      bfOid: \u001b[32m\"bf_internal_org\"\u001b[39m,\n",
       "      sortValue: \u001b[32m\"1723498854891\"\u001b[39m,\n",
       "      className: \u001b[32m\"BfJob\"\u001b[39m,\n",
       "      createdAt: \u001b[35m2024-08-12T21:40:54.891Z\u001b[39m,\n",
       "      lastUpdated: \u001b[35m2024-08-12T21:40:54.891Z\u001b[39m,\n",
       "      bfSid: \u001b[32m\"e83a0784f11644709d461884dd9f27b0\"\u001b[39m,\n",
       "      bfTid: \u001b[32m\"e83a0784f11644709d461884dd9f27b0\"\u001b[39m,\n",
       "      bfTClassName: \u001b[32m\"BfMedia\"\u001b[39m,\n",
       "      bfSClassName: \u001b[32m\"BfMedia\"\u001b[39m\n",
       "    },\n",
       "    _cachedProps: \u001b[90mundefined\u001b[39m,\n",
       "    __typename: \u001b[32m\"BfEdge\"\u001b[39m\n",
       "  }\n",
       "]"
      ]
     },
     "execution_count": 5,
     "metadata": {},
     "output_type": "execute_result"
    }
   ],
   "source": [
    "import { BfJob } from \"packages/bfDb/models/BfJob.ts\"\n",
    "\n",
    "await BfJob.findAvailableJobs(omniCurrentViewer)"
   ]
  },
  {
   "cell_type": "markdown",
   "id": "67c488f0-d08c-49f6-b825-4c6166eb239b",
   "metadata": {},
   "source": [
    "# Job Runner example\n",
    "\n",
    "This is roughly how the job runner works."
   ]
  },
  {
   "cell_type": "code",
   "execution_count": 18,
   "id": "085c49d6-5248-49e5-887b-3c93289d7b06",
   "metadata": {},
   "outputs": [
    {
     "name": "stdout",
     "output_type": "stream",
     "text": [
      "/home/runner/randallb-08-12/infra/jobRunner/jobRunner.ts - \u001b[34mINFO\u001b[39m:  Checking for work\n",
      "/home/runner/randallb-08-12/infra/jobRunner/jobRunner.ts - \u001b[34mINFO\u001b[39m:  Found 0 jobs\n",
      "/home/runner/randallb-08-12/infra/jobRunner/jobRunner.ts - \u001b[34mINFO\u001b[39m:  No work to do, timeout hit.\n"
     ]
    }
   ],
   "source": [
    "import { disableCheckForWork, checkForWork, close } from \"infra/jobRunner/jobRunner.ts\"\n",
    "\n",
    "disableCheckForWork();\n",
    "await checkForWork(false);\n",
    "// close();\n"
   ]
  },
  {
   "cell_type": "code",
   "execution_count": 1,
   "id": "7d722d01-8ad7-40db-bf95-8b7602b547a7",
   "metadata": {},
   "outputs": [
    {
     "name": "stdout",
     "output_type": "stream",
     "text": [
      "eye did it\n"
     ]
    }
   ],
   "source": [
    "console.log('eye did it')"
   ]
  }
 ],
 "metadata": {
  "kernelspec": {
   "display_name": "Deno",
   "language": "typescript",
   "name": "deno"
  },
  "language_info": {
   "codemirror_mode": "typescript",
   "file_extension": ".ts",
   "mimetype": "text/x.typescript",
   "name": "typescript",
   "nbconvert_exporter": "script",
   "pygments_lexer": "typescript",
   "version": "5.4.5"
  }
 },
 "nbformat": 4,
 "nbformat_minor": 5
}
